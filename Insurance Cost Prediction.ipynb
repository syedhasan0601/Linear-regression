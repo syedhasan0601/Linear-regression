{
 "cells": [
  {
   "cell_type": "code",
   "execution_count": 1,
   "metadata": {},
   "outputs": [],
   "source": [
    "import pandas as pd\n"
   ]
  },
  {
   "cell_type": "code",
   "execution_count": 2,
   "metadata": {},
   "outputs": [
    {
     "data": {
      "text/html": [
       "<div>\n",
       "<style scoped>\n",
       "    .dataframe tbody tr th:only-of-type {\n",
       "        vertical-align: middle;\n",
       "    }\n",
       "\n",
       "    .dataframe tbody tr th {\n",
       "        vertical-align: top;\n",
       "    }\n",
       "\n",
       "    .dataframe thead th {\n",
       "        text-align: right;\n",
       "    }\n",
       "</style>\n",
       "<table border=\"1\" class=\"dataframe\">\n",
       "  <thead>\n",
       "    <tr style=\"text-align: right;\">\n",
       "      <th></th>\n",
       "      <th>age</th>\n",
       "      <th>sex</th>\n",
       "      <th>bmi</th>\n",
       "      <th>children</th>\n",
       "      <th>smoker</th>\n",
       "      <th>region</th>\n",
       "      <th>charges</th>\n",
       "    </tr>\n",
       "  </thead>\n",
       "  <tbody>\n",
       "    <tr>\n",
       "      <th>0</th>\n",
       "      <td>19</td>\n",
       "      <td>female</td>\n",
       "      <td>27.900</td>\n",
       "      <td>0</td>\n",
       "      <td>yes</td>\n",
       "      <td>southwest</td>\n",
       "      <td>16884.92400</td>\n",
       "    </tr>\n",
       "    <tr>\n",
       "      <th>1</th>\n",
       "      <td>18</td>\n",
       "      <td>male</td>\n",
       "      <td>33.770</td>\n",
       "      <td>1</td>\n",
       "      <td>no</td>\n",
       "      <td>southeast</td>\n",
       "      <td>1725.55230</td>\n",
       "    </tr>\n",
       "    <tr>\n",
       "      <th>2</th>\n",
       "      <td>28</td>\n",
       "      <td>male</td>\n",
       "      <td>33.000</td>\n",
       "      <td>3</td>\n",
       "      <td>no</td>\n",
       "      <td>southeast</td>\n",
       "      <td>4449.46200</td>\n",
       "    </tr>\n",
       "    <tr>\n",
       "      <th>3</th>\n",
       "      <td>33</td>\n",
       "      <td>male</td>\n",
       "      <td>22.705</td>\n",
       "      <td>0</td>\n",
       "      <td>no</td>\n",
       "      <td>northwest</td>\n",
       "      <td>21984.47061</td>\n",
       "    </tr>\n",
       "    <tr>\n",
       "      <th>4</th>\n",
       "      <td>32</td>\n",
       "      <td>male</td>\n",
       "      <td>28.880</td>\n",
       "      <td>0</td>\n",
       "      <td>no</td>\n",
       "      <td>northwest</td>\n",
       "      <td>3866.85520</td>\n",
       "    </tr>\n",
       "  </tbody>\n",
       "</table>\n",
       "</div>"
      ],
      "text/plain": [
       "   age     sex     bmi  children smoker     region      charges\n",
       "0   19  female  27.900         0    yes  southwest  16884.92400\n",
       "1   18    male  33.770         1     no  southeast   1725.55230\n",
       "2   28    male  33.000         3     no  southeast   4449.46200\n",
       "3   33    male  22.705         0     no  northwest  21984.47061\n",
       "4   32    male  28.880         0     no  northwest   3866.85520"
      ]
     },
     "execution_count": 2,
     "metadata": {},
     "output_type": "execute_result"
    }
   ],
   "source": [
    "df = pd.read_csv(\"insurance.csv\")\n",
    "df.head()"
   ]
  },
  {
   "cell_type": "code",
   "execution_count": 3,
   "metadata": {},
   "outputs": [
    {
     "data": {
      "text/plain": [
       "array(['female', 'male'], dtype=object)"
      ]
     },
     "execution_count": 3,
     "metadata": {},
     "output_type": "execute_result"
    }
   ],
   "source": [
    "df['sex'].unique()"
   ]
  },
  {
   "cell_type": "code",
   "execution_count": 5,
   "metadata": {},
   "outputs": [
    {
     "data": {
      "text/plain": [
       "(1338, 7)"
      ]
     },
     "execution_count": 5,
     "metadata": {},
     "output_type": "execute_result"
    }
   ],
   "source": [
    "df.shape"
   ]
  },
  {
   "cell_type": "code",
   "execution_count": 6,
   "metadata": {},
   "outputs": [
    {
     "data": {
      "text/plain": [
       "array(['southwest', 'southeast', 'northwest', 'northeast'], dtype=object)"
      ]
     },
     "execution_count": 6,
     "metadata": {},
     "output_type": "execute_result"
    }
   ],
   "source": [
    "df['region'].unique()"
   ]
  },
  {
   "cell_type": "code",
   "execution_count": 7,
   "metadata": {},
   "outputs": [],
   "source": [
    "from sklearn.preprocessing import LabelEncoder             #importing labelencoder to create labelencoder\n"
   ]
  },
  {
   "cell_type": "code",
   "execution_count": 8,
   "metadata": {},
   "outputs": [],
   "source": [
    "le = LabelEncoder()                       #creating an object to convert string to numeric data\n"
   ]
  },
  {
   "cell_type": "code",
   "execution_count": 10,
   "metadata": {},
   "outputs": [
    {
     "data": {
      "text/html": [
       "<div>\n",
       "<style scoped>\n",
       "    .dataframe tbody tr th:only-of-type {\n",
       "        vertical-align: middle;\n",
       "    }\n",
       "\n",
       "    .dataframe tbody tr th {\n",
       "        vertical-align: top;\n",
       "    }\n",
       "\n",
       "    .dataframe thead th {\n",
       "        text-align: right;\n",
       "    }\n",
       "</style>\n",
       "<table border=\"1\" class=\"dataframe\">\n",
       "  <thead>\n",
       "    <tr style=\"text-align: right;\">\n",
       "      <th></th>\n",
       "      <th>age</th>\n",
       "      <th>sex</th>\n",
       "      <th>bmi</th>\n",
       "      <th>children</th>\n",
       "      <th>smoker</th>\n",
       "      <th>region</th>\n",
       "      <th>charges</th>\n",
       "    </tr>\n",
       "  </thead>\n",
       "  <tbody>\n",
       "    <tr>\n",
       "      <th>0</th>\n",
       "      <td>19</td>\n",
       "      <td>0</td>\n",
       "      <td>27.900</td>\n",
       "      <td>0</td>\n",
       "      <td>1</td>\n",
       "      <td>3</td>\n",
       "      <td>16884.92400</td>\n",
       "    </tr>\n",
       "    <tr>\n",
       "      <th>1</th>\n",
       "      <td>18</td>\n",
       "      <td>1</td>\n",
       "      <td>33.770</td>\n",
       "      <td>1</td>\n",
       "      <td>0</td>\n",
       "      <td>2</td>\n",
       "      <td>1725.55230</td>\n",
       "    </tr>\n",
       "    <tr>\n",
       "      <th>2</th>\n",
       "      <td>28</td>\n",
       "      <td>1</td>\n",
       "      <td>33.000</td>\n",
       "      <td>3</td>\n",
       "      <td>0</td>\n",
       "      <td>2</td>\n",
       "      <td>4449.46200</td>\n",
       "    </tr>\n",
       "    <tr>\n",
       "      <th>3</th>\n",
       "      <td>33</td>\n",
       "      <td>1</td>\n",
       "      <td>22.705</td>\n",
       "      <td>0</td>\n",
       "      <td>0</td>\n",
       "      <td>1</td>\n",
       "      <td>21984.47061</td>\n",
       "    </tr>\n",
       "    <tr>\n",
       "      <th>4</th>\n",
       "      <td>32</td>\n",
       "      <td>1</td>\n",
       "      <td>28.880</td>\n",
       "      <td>0</td>\n",
       "      <td>0</td>\n",
       "      <td>1</td>\n",
       "      <td>3866.85520</td>\n",
       "    </tr>\n",
       "  </tbody>\n",
       "</table>\n",
       "</div>"
      ],
      "text/plain": [
       "   age  sex     bmi  children  smoker  region      charges\n",
       "0   19    0  27.900         0       1       3  16884.92400\n",
       "1   18    1  33.770         1       0       2   1725.55230\n",
       "2   28    1  33.000         3       0       2   4449.46200\n",
       "3   33    1  22.705         0       0       1  21984.47061\n",
       "4   32    1  28.880         0       0       1   3866.85520"
      ]
     },
     "execution_count": 10,
     "metadata": {},
     "output_type": "execute_result"
    }
   ],
   "source": [
    "# fit_transform\n",
    "df.iloc[:,1] = le.fit_transform(df.iloc[:,1])         # accessing sex column\n",
    "df.iloc[:,4] = le.fit_transform(df.iloc[:,4])         # accessing smoker columnn\n",
    "df.iloc[:,5] = le.fit_transform(df.iloc[:,5])         # accessing region column\n",
    "df.head()"
   ]
  },
  {
   "cell_type": "code",
   "execution_count": 11,
   "metadata": {},
   "outputs": [
    {
     "data": {
      "text/plain": [
       "array([3, 2, 1, 0])"
      ]
     },
     "execution_count": 11,
     "metadata": {},
     "output_type": "execute_result"
    }
   ],
   "source": [
    "df['region'].unique()"
   ]
  },
  {
   "cell_type": "code",
   "execution_count": 12,
   "metadata": {},
   "outputs": [
    {
     "data": {
      "text/plain": [
       "<seaborn.axisgrid.PairGrid at 0x200a98981f0>"
      ]
     },
     "execution_count": 12,
     "metadata": {},
     "output_type": "execute_result"
    },
    {
     "data": {
      "image/png": "[encoded data removed]",
      "text/plain": [
       "<Figure size 1260x180 with 8 Axes>"
      ]
     },
     "metadata": {
      "needs_background": "light"
     },
     "output_type": "display_data"
    }
   ],
   "source": [
    "import seaborn as sns\n",
    "sns.pairplot(df,y_vars = \"charges\",kind = 'reg')"
   ]
  },
  {
   "cell_type": "code",
   "execution_count": 14,
   "metadata": {},
   "outputs": [],
   "source": [
    "from sklearn.model_selection import train_test_split\n",
    "from sklearn.linear_model import LinearRegression"
   ]
  },
  {
   "cell_type": "code",
   "execution_count": 17,
   "metadata": {},
   "outputs": [
    {
     "data": {
      "text/html": [
       "<div>\n",
       "<style scoped>\n",
       "    .dataframe tbody tr th:only-of-type {\n",
       "        vertical-align: middle;\n",
       "    }\n",
       "\n",
       "    .dataframe tbody tr th {\n",
       "        vertical-align: top;\n",
       "    }\n",
       "\n",
       "    .dataframe thead th {\n",
       "        text-align: right;\n",
       "    }\n",
       "</style>\n",
       "<table border=\"1\" class=\"dataframe\">\n",
       "  <thead>\n",
       "    <tr style=\"text-align: right;\">\n",
       "      <th></th>\n",
       "      <th>age</th>\n",
       "      <th>sex</th>\n",
       "      <th>bmi</th>\n",
       "      <th>children</th>\n",
       "      <th>smoker</th>\n",
       "      <th>region</th>\n",
       "    </tr>\n",
       "  </thead>\n",
       "  <tbody>\n",
       "    <tr>\n",
       "      <th>0</th>\n",
       "      <td>19</td>\n",
       "      <td>0</td>\n",
       "      <td>27.900</td>\n",
       "      <td>0</td>\n",
       "      <td>1</td>\n",
       "      <td>3</td>\n",
       "    </tr>\n",
       "    <tr>\n",
       "      <th>1</th>\n",
       "      <td>18</td>\n",
       "      <td>1</td>\n",
       "      <td>33.770</td>\n",
       "      <td>1</td>\n",
       "      <td>0</td>\n",
       "      <td>2</td>\n",
       "    </tr>\n",
       "    <tr>\n",
       "      <th>2</th>\n",
       "      <td>28</td>\n",
       "      <td>1</td>\n",
       "      <td>33.000</td>\n",
       "      <td>3</td>\n",
       "      <td>0</td>\n",
       "      <td>2</td>\n",
       "    </tr>\n",
       "    <tr>\n",
       "      <th>3</th>\n",
       "      <td>33</td>\n",
       "      <td>1</td>\n",
       "      <td>22.705</td>\n",
       "      <td>0</td>\n",
       "      <td>0</td>\n",
       "      <td>1</td>\n",
       "    </tr>\n",
       "    <tr>\n",
       "      <th>4</th>\n",
       "      <td>32</td>\n",
       "      <td>1</td>\n",
       "      <td>28.880</td>\n",
       "      <td>0</td>\n",
       "      <td>0</td>\n",
       "      <td>1</td>\n",
       "    </tr>\n",
       "  </tbody>\n",
       "</table>\n",
       "</div>"
      ],
      "text/plain": [
       "   age  sex     bmi  children  smoker  region\n",
       "0   19    0  27.900         0       1       3\n",
       "1   18    1  33.770         1       0       2\n",
       "2   28    1  33.000         3       0       2\n",
       "3   33    1  22.705         0       0       1\n",
       "4   32    1  28.880         0       0       1"
      ]
     },
     "execution_count": 17,
     "metadata": {},
     "output_type": "execute_result"
    }
   ],
   "source": [
    "# x - independent variable\n",
    "# y - target variable\n",
    "x = df.iloc[:,:6]\n",
    "x.head()"
   ]
  },
  {
   "cell_type": "code",
   "execution_count": 18,
   "metadata": {},
   "outputs": [
    {
     "data": {
      "text/plain": [
       "0    16884.92400\n",
       "1     1725.55230\n",
       "2     4449.46200\n",
       "3    21984.47061\n",
       "4     3866.85520\n",
       "Name: charges, dtype: float64"
      ]
     },
     "execution_count": 18,
     "metadata": {},
     "output_type": "execute_result"
    }
   ],
   "source": [
    "y = df.iloc[:,-1]\n",
    "y.head()"
   ]
  },
  {
   "cell_type": "code",
   "execution_count": 19,
   "metadata": {},
   "outputs": [
    {
     "name": "stdout",
     "output_type": "stream",
     "text": [
      "(1003, 6)\n",
      "(335, 6)\n"
     ]
    }
   ],
   "source": [
    "x_train,x_test,y_train,y_test = train_test_split(x,y)\n",
    "print(x_train.shape)\n",
    "print(x_test.shape)"
   ]
  },
  {
   "cell_type": "markdown",
   "metadata": {},
   "source": [
    "## Modelling\n"
   ]
  },
  {
   "cell_type": "code",
   "execution_count": 21,
   "metadata": {},
   "outputs": [
    {
     "data": {
      "text/plain": [
       "LinearRegression()"
      ]
     },
     "execution_count": 21,
     "metadata": {},
     "output_type": "execute_result"
    }
   ],
   "source": [
    "lin = LinearRegression()\n",
    "lin.fit(x_train,y_train)"
   ]
  },
  {
   "cell_type": "code",
   "execution_count": 23,
   "metadata": {},
   "outputs": [
    {
     "data": {
      "text/plain": [
       "array([ 4126.01326061,  2241.43884989, 12214.7412033 ,  3817.85704126,\n",
       "        8346.7675038 , 14913.93501312, 11283.30168489,  6849.38886325,\n",
       "       13759.67382031, 25834.40056142,  5835.94584272, 34162.62844852,\n",
       "       14005.38248545, 14136.8394661 , 29457.9197978 , 27486.18073617,\n",
       "        7063.03365905,  5040.82365865, 37937.01490548, 16687.3300415 ,\n",
       "       11103.63028053, 27270.37797637, 14198.10713514, 10618.53957352,\n",
       "       32433.75490343, 18493.36198378, 14189.50855152, 12625.77801664,\n",
       "        5735.95971913, 10512.80513384, 11164.28239446, 11448.20816204,\n",
       "        5348.79751691,  5349.71652998, 10991.29812895, 12548.00981465,\n",
       "       23685.43366888,  6452.82477236,  8238.99842792, 11702.64123353,\n",
       "         844.84290492,  8134.49335822, 35631.06848208,  2509.04449665,\n",
       "       14538.49378301,  2597.39465979,  2049.98986966, 36471.56648075,\n",
       "        3261.14155635,  4294.0499886 , 11677.43995619,  4117.77235783,\n",
       "       13513.07800853,  8491.22507297, 17698.73550333,  3569.49566983,\n",
       "       12674.11256368,  6648.76524985, 10339.70527435,  4358.6209289 ,\n",
       "       14046.05271301,  3607.63128787,  8295.86722328,  3234.66385921,\n",
       "        6765.5188617 ,  6985.51860547,  1118.2570711 ,  1895.78515422,\n",
       "       31108.27310672, 36092.18621856,  9237.72444991, 12389.12093885,\n",
       "        1940.57461727, 11112.5580063 ,  3082.18063695, 12920.78037361,\n",
       "        9893.50602089,  7348.59922667, 29235.47919438,  9075.5972544 ,\n",
       "       11481.62775557,  3687.36490481, 12991.34104671, 26744.0171939 ,\n",
       "       -1421.43107463, 13883.84281211, 34177.89200184, 36906.32217721,\n",
       "        3341.23054559, 13092.45038166,  9613.75731125, 34202.76786078,\n",
       "        8285.13584056, 38968.80914429,  3117.70063167, 12304.9341408 ,\n",
       "        9056.31860986, 14706.45641531, 39840.96416247, 35945.52371576,\n",
       "        2351.74776406, 30255.03986798,  7341.03504139,  1964.75477169,\n",
       "        5461.4271552 ,  1493.66468234, 10153.67012297,  7211.28904319,\n",
       "        2985.78942633, 11058.84081748,  6607.30758226,  8419.30437441,\n",
       "        7316.55293402,  5752.73839746,  3059.35310706,  4749.61749966,\n",
       "       30122.14870512, 13348.56250605,  7539.81567171,  2753.52066058,\n",
       "       31262.83462415,  9269.34655425,  4882.35470145,  5207.87893631,\n",
       "        1410.40116708,  9138.74085824,  8840.52981475, 14453.60051008,\n",
       "         700.15429337,  9106.40549204,  8842.3382199 , 14663.08187767,\n",
       "       11637.1230665 , 13936.35658925, 11038.68749818,  8276.10065986,\n",
       "        4066.96678623,  3024.38780847,  5458.35649147, 11928.14726964,\n",
       "        2556.23597173,  5723.57762042,  7096.20079138,  6342.75836248,\n",
       "       10162.43791645, 36804.04631706,  6747.05882192,  4834.35078937,\n",
       "        3791.96596752, 13139.16533666, 40688.95652044,   385.57052317,\n",
       "        1028.89169316, 27844.38900014,  5944.84429771, 10749.37800123,\n",
       "       30839.80498525, 14445.09167845,  2557.25118654, 33316.34382774,\n",
       "        4813.66642371, 31054.49557818,  5652.5227243 ,  5079.46488629,\n",
       "        7604.16208249, 33124.45425256,  2436.25753651,  6749.77735861,\n",
       "        4551.39861206,  4473.07442985,   389.4245436 ,  3752.2055264 ,\n",
       "       25704.16014369, 32192.04364893, 31190.07429938,  4091.84264517,\n",
       "        3874.72312284, 11538.92189481,  8913.92482725,  2406.87940994,\n",
       "       30405.63469349, 15990.47885511, 15993.21821374,  6164.62521134,\n",
       "        9071.58540843,  6066.22973815,  3237.24355739,  6042.14286296,\n",
       "       28797.64815924, 14602.41011185,  9776.71850819, 17440.17323945,\n",
       "        2909.06281489, 27992.45768022, 30281.53050764,  6645.6162115 ,\n",
       "       41122.858415  ,  1316.49067601, 40184.09469832,  2054.78968713,\n",
       "         199.32079918,  9986.99930714, 10603.4703217 , 14436.6840686 ,\n",
       "       28938.18349899, 27767.95695292, 36365.84661279,  3857.77090183,\n",
       "       30961.0720548 ,  9913.1769242 ,  7976.89236414, 14106.4015777 ,\n",
       "        9103.9219956 ,  9459.42202488, 11958.7474498 , 35098.45160404,\n",
       "       14910.51778629,  9932.20338166,  4251.81378486, 12674.61390358,\n",
       "        8711.46433541,  9294.32139182, 13638.90958347,  1908.58445775,\n",
       "       17182.53676341,   169.0458287 , 12017.34865429,  4018.66389461,\n",
       "       11400.58286678,  6925.57697649, 13966.87257122,  4093.05493838,\n",
       "        8502.42403112, 32496.62265823, 10214.92281507, 10865.68384041,\n",
       "        9606.02540893, 36334.83621129, 12704.39451765,  5276.70672964,\n",
       "        9135.75520843,  -699.63264738,   223.62122253,  5576.91532634,\n",
       "       36234.57918544, 32518.12983524,  7993.25065552,  7153.37487041,\n",
       "        7745.63881319,  8612.14882468, 11160.56911059, 12852.38747583,\n",
       "        3374.08521425,  5633.14367144,  2794.58037001, 39272.68986868,\n",
       "        3894.08149935, 13203.33662947, 13032.28063281,  1899.47206234,\n",
       "       11110.74154457,  4583.895663  ,  5166.14270589, 12892.06940595,\n",
       "       35893.31087931, 25464.55932261, 37437.58636759, 10622.06039081,\n",
       "       32235.749564  , 33912.78585293,  6135.30315479,  1915.87326234,\n",
       "        8463.17001306,  3634.70638103,  9149.88368325,  6900.72580397,\n",
       "       12677.62578353,  7302.05491121, 10388.19134279,  8363.99226548,\n",
       "         846.97231316,  5551.39352875,  6170.24906113, 12183.05679809,\n",
       "        4901.71307797,  5832.21737319,  4292.93579516, 10924.85146258,\n",
       "       27429.56440201, 14118.27007334, 11486.31191593, 38716.03045377,\n",
       "       32049.63339656,  7099.62079511,  3437.0636061 ,  8119.4037019 ,\n",
       "       34612.65041208,  5617.50257667, 29908.27618547, 33531.26268616,\n",
       "       12739.01352499,  9307.64317995,  6763.87567082, 11702.28483678,\n",
       "        8529.62067731,  3332.34417251, 33375.42874452, 14091.31591924,\n",
       "       15199.64579573,  4081.79224966, 12059.3919231 , 11690.72290889,\n",
       "       27965.07615567,  5977.35125463, 33666.52494581,  3663.25884609,\n",
       "        8767.33310163,  4007.04454951,  8659.64476997,  2735.29586976,\n",
       "       28981.72542077,  7300.95340066, 28835.25206604, 10108.89712968,\n",
       "        7878.72983136,  5581.52246851,  3502.47980889, 13061.06121774,\n",
       "       11763.9462574 ,  -945.53973813, 36350.90420816, 39182.29707589,\n",
       "       34085.6711398 ,  8388.2478089 , 15284.96048007])"
      ]
     },
     "execution_count": 23,
     "metadata": {},
     "output_type": "execute_result"
    }
   ],
   "source": [
    "pred = lin.predict(x_test)\n",
    "pred"
   ]
  },
  {
   "cell_type": "code",
   "execution_count": 25,
   "metadata": {},
   "outputs": [
    {
     "data": {
      "text/plain": [
       "0.733938932913082"
      ]
     },
     "execution_count": 25,
     "metadata": {},
     "output_type": "execute_result"
    }
   ],
   "source": [
    "from sklearn.metrics import r2_score\n",
    "r2_score(y_test,pred)"
   ]
  },
  {
   "cell_type": "code",
   "execution_count": null,
   "metadata": {},
   "outputs": [],
   "source": []
  }
 ],
 "metadata": {
  "kernelspec": {
   "display_name": "Python 3",
   "language": "python",
   "name": "python3"
  },
  "language_info": {
   "codemirror_mode": {
    "name": "ipython",
    "version": 3
   },
   "file_extension": ".py",
   "mimetype": "text/x-python",
   "name": "python",
   "nbconvert_exporter": "python",
   "pygments_lexer": "ipython3",
   "version": "3.8.3"
  }
 },
 "nbformat": 4,
 "nbformat_minor": 4
}
